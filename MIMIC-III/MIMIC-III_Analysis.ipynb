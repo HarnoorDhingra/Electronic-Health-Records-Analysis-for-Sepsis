{
 "cells": [
  {
   "cell_type": "code",
   "execution_count": 46,
   "metadata": {
    "colab": {
     "base_uri": "https://localhost:8080/",
     "height": 71
    },
    "colab_type": "code",
    "id": "8rVKCoaxadQH",
    "outputId": "6aa23898-66f8-4bc7-fca5-4f522a737cc9"
   },
   "outputs": [],
   "source": [
    "import numpy as np\n",
    "import pandas as pd\n",
    "import seaborn as sns\n",
    "import matplotlib.pyplot as plt\n",
    "import random"
   ]
  },
  {
   "cell_type": "code",
   "execution_count": 47,
   "metadata": {
    "colab": {},
    "colab_type": "code",
    "id": "XhWuQ85eadQL"
   },
   "outputs": [],
   "source": [
    "%matplotlib inline"
   ]
  },
  {
   "cell_type": "code",
   "execution_count": 48,
   "metadata": {
    "colab": {},
    "colab_type": "code",
    "id": "1_-QgGn4adQS"
   },
   "outputs": [],
   "source": [
    "sns.reset_defaults()\n",
    "sns.set(\n",
    "    rc={'figure.figsize':(4,5)}, \n",
    "    style=\"white\"\n",
    ")"
   ]
  },
  {
   "cell_type": "markdown",
   "metadata": {
    "colab_type": "text",
    "id": "-vlL4GHuadQV"
   },
   "source": [
    "## Analysis of Patients CSV"
   ]
  },
  {
   "cell_type": "code",
   "execution_count": 49,
   "metadata": {
    "colab": {
     "base_uri": "https://localhost:8080/",
     "height": 204
    },
    "colab_type": "code",
    "id": "-qWCJns4adQV",
    "outputId": "798a63ef-c244-4076-8767-5dc44f670f1b"
   },
   "outputs": [
    {
     "data": {
      "text/html": [
       "<div>\n",
       "<style scoped>\n",
       "    .dataframe tbody tr th:only-of-type {\n",
       "        vertical-align: middle;\n",
       "    }\n",
       "\n",
       "    .dataframe tbody tr th {\n",
       "        vertical-align: top;\n",
       "    }\n",
       "\n",
       "    .dataframe thead th {\n",
       "        text-align: right;\n",
       "    }\n",
       "</style>\n",
       "<table border=\"1\" class=\"dataframe\">\n",
       "  <thead>\n",
       "    <tr style=\"text-align: right;\">\n",
       "      <th></th>\n",
       "      <th>ROW_ID</th>\n",
       "      <th>SUBJECT_ID</th>\n",
       "      <th>GENDER</th>\n",
       "      <th>DOB</th>\n",
       "      <th>DOD</th>\n",
       "      <th>DOD_HOSP</th>\n",
       "      <th>DOD_SSN</th>\n",
       "      <th>EXPIRE_FLAG</th>\n",
       "    </tr>\n",
       "  </thead>\n",
       "  <tbody>\n",
       "    <tr>\n",
       "      <th>0</th>\n",
       "      <td>234</td>\n",
       "      <td>249</td>\n",
       "      <td>F</td>\n",
       "      <td>2075-03-13 00:00:00</td>\n",
       "      <td>NaN</td>\n",
       "      <td>NaN</td>\n",
       "      <td>NaN</td>\n",
       "      <td>0</td>\n",
       "    </tr>\n",
       "    <tr>\n",
       "      <th>1</th>\n",
       "      <td>235</td>\n",
       "      <td>250</td>\n",
       "      <td>F</td>\n",
       "      <td>2164-12-27 00:00:00</td>\n",
       "      <td>2188-11-22 00:00:00</td>\n",
       "      <td>2188-11-22 00:00:00</td>\n",
       "      <td>NaN</td>\n",
       "      <td>1</td>\n",
       "    </tr>\n",
       "    <tr>\n",
       "      <th>2</th>\n",
       "      <td>236</td>\n",
       "      <td>251</td>\n",
       "      <td>M</td>\n",
       "      <td>2090-03-15 00:00:00</td>\n",
       "      <td>NaN</td>\n",
       "      <td>NaN</td>\n",
       "      <td>NaN</td>\n",
       "      <td>0</td>\n",
       "    </tr>\n",
       "    <tr>\n",
       "      <th>3</th>\n",
       "      <td>237</td>\n",
       "      <td>252</td>\n",
       "      <td>M</td>\n",
       "      <td>2078-03-06 00:00:00</td>\n",
       "      <td>NaN</td>\n",
       "      <td>NaN</td>\n",
       "      <td>NaN</td>\n",
       "      <td>0</td>\n",
       "    </tr>\n",
       "    <tr>\n",
       "      <th>4</th>\n",
       "      <td>238</td>\n",
       "      <td>253</td>\n",
       "      <td>F</td>\n",
       "      <td>2089-11-26 00:00:00</td>\n",
       "      <td>NaN</td>\n",
       "      <td>NaN</td>\n",
       "      <td>NaN</td>\n",
       "      <td>0</td>\n",
       "    </tr>\n",
       "  </tbody>\n",
       "</table>\n",
       "</div>"
      ],
      "text/plain": [
       "   ROW_ID  SUBJECT_ID GENDER                  DOB                  DOD  \\\n",
       "0     234         249      F  2075-03-13 00:00:00                  NaN   \n",
       "1     235         250      F  2164-12-27 00:00:00  2188-11-22 00:00:00   \n",
       "2     236         251      M  2090-03-15 00:00:00                  NaN   \n",
       "3     237         252      M  2078-03-06 00:00:00                  NaN   \n",
       "4     238         253      F  2089-11-26 00:00:00                  NaN   \n",
       "\n",
       "              DOD_HOSP DOD_SSN  EXPIRE_FLAG  \n",
       "0                  NaN     NaN            0  \n",
       "1  2188-11-22 00:00:00     NaN            1  \n",
       "2                  NaN     NaN            0  \n",
       "3                  NaN     NaN            0  \n",
       "4                  NaN     NaN            0  "
      ]
     },
     "execution_count": 49,
     "metadata": {},
     "output_type": "execute_result"
    }
   ],
   "source": [
    "patients = pd.read_csv(\"PATIENTS.csv\")\n",
    "patients.head()"
   ]
  },
  {
   "cell_type": "code",
   "execution_count": 52,
   "metadata": {},
   "outputs": [
    {
     "name": "stdout",
     "output_type": "stream",
     "text": [
      "Total Patients: 46520\n",
      "Number of Males: 26121\n",
      "Number of Females: 20399\n"
     ]
    }
   ],
   "source": [
    "print(f\"Total Patients: {len(patients)}\")\n",
    "print(f\"Number of Males: {len(patients[patients['GENDER'] == 'M'])}\")\n",
    "print(f\"Number of Females: {len(patients[patients['GENDER'] == 'F'])}\")"
   ]
  },
  {
   "cell_type": "code",
   "execution_count": 50,
   "metadata": {
    "colab": {
     "base_uri": "https://localhost:8080/",
     "height": 473
    },
    "colab_type": "code",
    "id": "2G0t_YbgadQY",
    "outputId": "90ecbcbc-5596-4d4d-8b4b-cb92f0863e64"
   },
   "outputs": [
    {
     "data": {
      "image/png": "[encoded data removed]",
      "text/plain": [
       "<Figure size 400x500 with 1 Axes>"
      ]
     },
     "metadata": {},
     "output_type": "display_data"
    }
   ],
   "source": [
    "sns.countplot(patients['GENDER'], palette=\"rocket\")\n",
    "plt.show()"
   ]
  },
  {
   "cell_type": "markdown",
   "metadata": {
    "colab_type": "text",
    "id": "P3zXGXwvadQd"
   },
   "source": [
    "## Analysis of Noteevents CSV\n",
    "\n",
    "(This dataset is quite large and would take time to load.)"
   ]
  },
  {
   "cell_type": "code",
   "execution_count": 53,
   "metadata": {
    "colab": {},
    "colab_type": "code",
    "id": "RPGLkgpYadQe"
   },
   "outputs": [],
   "source": [
    "sns.reset_defaults()\n",
    "sns.set(\n",
    "    rc={'figure.figsize':(10,6)}, \n",
    "    style=\"white\"\n",
    ")"
   ]
  },
  {
   "cell_type": "code",
   "execution_count": 18,
   "metadata": {
    "scrolled": true
   },
   "outputs": [
    {
     "name": "stderr",
     "output_type": "stream",
     "text": [
      "/Users/harnoor_dhingra/anaconda3/lib/python3.7/site-packages/IPython/core/interactiveshell.py:3057: DtypeWarning: Columns (4,5) have mixed types. Specify dtype option on import or set low_memory=False.\n",
      "  interactivity=interactivity, compiler=compiler, result=result)\n"
     ]
    },
    {
     "data": {
      "text/html": [
       "<div>\n",
       "<style scoped>\n",
       "    .dataframe tbody tr th:only-of-type {\n",
       "        vertical-align: middle;\n",
       "    }\n",
       "\n",
       "    .dataframe tbody tr th {\n",
       "        vertical-align: top;\n",
       "    }\n",
       "\n",
       "    .dataframe thead th {\n",
       "        text-align: right;\n",
       "    }\n",
       "</style>\n",
       "<table border=\"1\" class=\"dataframe\">\n",
       "  <thead>\n",
       "    <tr style=\"text-align: right;\">\n",
       "      <th></th>\n",
       "      <th>ROW_ID</th>\n",
       "      <th>SUBJECT_ID</th>\n",
       "      <th>HADM_ID</th>\n",
       "      <th>CHARTDATE</th>\n",
       "      <th>CHARTTIME</th>\n",
       "      <th>STORETIME</th>\n",
       "      <th>CATEGORY</th>\n",
       "      <th>DESCRIPTION</th>\n",
       "      <th>CGID</th>\n",
       "      <th>ISERROR</th>\n",
       "      <th>TEXT</th>\n",
       "    </tr>\n",
       "  </thead>\n",
       "  <tbody>\n",
       "    <tr>\n",
       "      <th>0</th>\n",
       "      <td>174</td>\n",
       "      <td>22532</td>\n",
       "      <td>167853.0</td>\n",
       "      <td>2151-08-04</td>\n",
       "      <td>NaN</td>\n",
       "      <td>NaN</td>\n",
       "      <td>Discharge summary</td>\n",
       "      <td>Report</td>\n",
       "      <td>NaN</td>\n",
       "      <td>NaN</td>\n",
       "      <td>Admission Date:  [**2151-7-16**]       Dischar...</td>\n",
       "    </tr>\n",
       "    <tr>\n",
       "      <th>1</th>\n",
       "      <td>175</td>\n",
       "      <td>13702</td>\n",
       "      <td>107527.0</td>\n",
       "      <td>2118-06-14</td>\n",
       "      <td>NaN</td>\n",
       "      <td>NaN</td>\n",
       "      <td>Discharge summary</td>\n",
       "      <td>Report</td>\n",
       "      <td>NaN</td>\n",
       "      <td>NaN</td>\n",
       "      <td>Admission Date:  [**2118-6-2**]       Discharg...</td>\n",
       "    </tr>\n",
       "    <tr>\n",
       "      <th>2</th>\n",
       "      <td>176</td>\n",
       "      <td>13702</td>\n",
       "      <td>167118.0</td>\n",
       "      <td>2119-05-25</td>\n",
       "      <td>NaN</td>\n",
       "      <td>NaN</td>\n",
       "      <td>Discharge summary</td>\n",
       "      <td>Report</td>\n",
       "      <td>NaN</td>\n",
       "      <td>NaN</td>\n",
       "      <td>Admission Date:  [**2119-5-4**]              D...</td>\n",
       "    </tr>\n",
       "    <tr>\n",
       "      <th>3</th>\n",
       "      <td>177</td>\n",
       "      <td>13702</td>\n",
       "      <td>196489.0</td>\n",
       "      <td>2124-08-18</td>\n",
       "      <td>NaN</td>\n",
       "      <td>NaN</td>\n",
       "      <td>Discharge summary</td>\n",
       "      <td>Report</td>\n",
       "      <td>NaN</td>\n",
       "      <td>NaN</td>\n",
       "      <td>Admission Date:  [**2124-7-21**]              ...</td>\n",
       "    </tr>\n",
       "    <tr>\n",
       "      <th>4</th>\n",
       "      <td>178</td>\n",
       "      <td>26880</td>\n",
       "      <td>135453.0</td>\n",
       "      <td>2162-03-25</td>\n",
       "      <td>NaN</td>\n",
       "      <td>NaN</td>\n",
       "      <td>Discharge summary</td>\n",
       "      <td>Report</td>\n",
       "      <td>NaN</td>\n",
       "      <td>NaN</td>\n",
       "      <td>Admission Date:  [**2162-3-3**]              D...</td>\n",
       "    </tr>\n",
       "  </tbody>\n",
       "</table>\n",
       "</div>"
      ],
      "text/plain": [
       "   ROW_ID  SUBJECT_ID   HADM_ID   CHARTDATE CHARTTIME STORETIME  \\\n",
       "0     174       22532  167853.0  2151-08-04       NaN       NaN   \n",
       "1     175       13702  107527.0  2118-06-14       NaN       NaN   \n",
       "2     176       13702  167118.0  2119-05-25       NaN       NaN   \n",
       "3     177       13702  196489.0  2124-08-18       NaN       NaN   \n",
       "4     178       26880  135453.0  2162-03-25       NaN       NaN   \n",
       "\n",
       "            CATEGORY DESCRIPTION  CGID  ISERROR  \\\n",
       "0  Discharge summary      Report   NaN      NaN   \n",
       "1  Discharge summary      Report   NaN      NaN   \n",
       "2  Discharge summary      Report   NaN      NaN   \n",
       "3  Discharge summary      Report   NaN      NaN   \n",
       "4  Discharge summary      Report   NaN      NaN   \n",
       "\n",
       "                                                TEXT  \n",
       "0  Admission Date:  [**2151-7-16**]       Dischar...  \n",
       "1  Admission Date:  [**2118-6-2**]       Discharg...  \n",
       "2  Admission Date:  [**2119-5-4**]              D...  \n",
       "3  Admission Date:  [**2124-7-21**]              ...  \n",
       "4  Admission Date:  [**2162-3-3**]              D...  "
      ]
     },
     "execution_count": 18,
     "metadata": {},
     "output_type": "execute_result"
    }
   ],
   "source": [
    "noteevents = pd.read_csv('NOTEEVENTS.csv')\n",
    "noteevents.head()"
   ]
  },
  {
   "cell_type": "code",
   "execution_count": 54,
   "metadata": {
    "colab": {},
    "colab_type": "code",
    "id": "xcp2oEFDadQi"
   },
   "outputs": [],
   "source": [
    "noteevents_original = noteevents"
   ]
  },
  {
   "cell_type": "code",
   "execution_count": 58,
   "metadata": {
    "colab": {
     "base_uri": "https://localhost:8080/",
     "height": 550
    },
    "colab_type": "code",
    "id": "5iPIqOOiadQl",
    "outputId": "cd5110a1-5276-4366-cb55-12d36e0b2cdc"
   },
   "outputs": [
    {
     "data": {
      "image/png": "[encoded data removed]",
      "text/plain": [
       "<Figure size 1000x600 with 1 Axes>"
      ]
     },
     "metadata": {},
     "output_type": "display_data"
    }
   ],
   "source": [
    "lns = [len(str(x)) for x in noteevents['TEXT']]\n",
    "sns.distplot(lns, kde=False, axlabel='Length of Document', color = 'g')\n",
    "plt.show()"
   ]
  },
  {
   "cell_type": "code",
   "execution_count": 63,
   "metadata": {
    "colab": {
     "base_uri": "https://localhost:8080/",
     "height": 550
    },
    "colab_type": "code",
    "id": "XHqZWgqoadQq",
    "outputId": "86842b74-4746-445e-df13-710d6d342081"
   },
   "outputs": [
    {
     "data": {
      "image/png": "[encoded data removed]",
      "text/plain": [
       "<Figure size 1000x600 with 1 Axes>"
      ]
     },
     "metadata": {},
     "output_type": "display_data"
    }
   ],
   "source": [
    "# Sort lengths\n",
    "lns.sort()\n",
    "# Take 5% as the removal size\n",
    "rm_size = int(len(lns) / 100) * 5\n",
    "\n",
    "# Now plot with removal of most/least frequent\n",
    "sns.distplot(lns[rm_size:-rm_size], kde=False, axlabel='Length of Document', color = 'r')\n",
    "plt.show()"
   ]
  },
  {
   "cell_type": "markdown",
   "metadata": {
    "colab_type": "text",
    "id": "YVbE6NwUadQs"
   },
   "source": [
    "### Preprocessing based on length of documents"
   ]
  },
  {
   "cell_type": "code",
   "execution_count": 64,
   "metadata": {
    "colab": {
     "base_uri": "https://localhost:8080/",
     "height": 204
    },
    "colab_type": "code",
    "id": "KPMajqkmadQt",
    "outputId": "cb24f78c-e7ba-4247-d0d8-7380de40cdac"
   },
   "outputs": [
    {
     "data": {
      "text/html": [
       "<div>\n",
       "<style scoped>\n",
       "    .dataframe tbody tr th:only-of-type {\n",
       "        vertical-align: middle;\n",
       "    }\n",
       "\n",
       "    .dataframe tbody tr th {\n",
       "        vertical-align: top;\n",
       "    }\n",
       "\n",
       "    .dataframe thead th {\n",
       "        text-align: right;\n",
       "    }\n",
       "</style>\n",
       "<table border=\"1\" class=\"dataframe\">\n",
       "  <thead>\n",
       "    <tr style=\"text-align: right;\">\n",
       "      <th></th>\n",
       "      <th>ROW_ID</th>\n",
       "      <th>SUBJECT_ID</th>\n",
       "      <th>HADM_ID</th>\n",
       "      <th>CHARTDATE</th>\n",
       "      <th>CHARTTIME</th>\n",
       "      <th>STORETIME</th>\n",
       "      <th>CATEGORY</th>\n",
       "      <th>DESCRIPTION</th>\n",
       "      <th>CGID</th>\n",
       "      <th>ISERROR</th>\n",
       "      <th>TEXT</th>\n",
       "      <th>CREATE_YEAR</th>\n",
       "    </tr>\n",
       "  </thead>\n",
       "  <tbody>\n",
       "    <tr>\n",
       "      <th>0</th>\n",
       "      <td>174</td>\n",
       "      <td>22532</td>\n",
       "      <td>167853.0</td>\n",
       "      <td>2151-08-04</td>\n",
       "      <td>NaN</td>\n",
       "      <td>NaN</td>\n",
       "      <td>Discharge summary</td>\n",
       "      <td>Report</td>\n",
       "      <td>NaN</td>\n",
       "      <td>NaN</td>\n",
       "      <td>Admission Date:  [**2151-7-16**]       Dischar...</td>\n",
       "      <td>2151</td>\n",
       "    </tr>\n",
       "    <tr>\n",
       "      <th>12</th>\n",
       "      <td>223</td>\n",
       "      <td>5350</td>\n",
       "      <td>169684.0</td>\n",
       "      <td>2143-04-30</td>\n",
       "      <td>NaN</td>\n",
       "      <td>NaN</td>\n",
       "      <td>Discharge summary</td>\n",
       "      <td>Report</td>\n",
       "      <td>NaN</td>\n",
       "      <td>NaN</td>\n",
       "      <td>Admission Date:  [**2143-4-25**]     Discharge...</td>\n",
       "      <td>2143</td>\n",
       "    </tr>\n",
       "    <tr>\n",
       "      <th>13</th>\n",
       "      <td>224</td>\n",
       "      <td>5350</td>\n",
       "      <td>169684.0</td>\n",
       "      <td>2143-04-30</td>\n",
       "      <td>NaN</td>\n",
       "      <td>NaN</td>\n",
       "      <td>Discharge summary</td>\n",
       "      <td>Report</td>\n",
       "      <td>NaN</td>\n",
       "      <td>NaN</td>\n",
       "      <td>Admission Date:  [**2143-4-25**]     Discharge...</td>\n",
       "      <td>2143</td>\n",
       "    </tr>\n",
       "    <tr>\n",
       "      <th>34</th>\n",
       "      <td>245</td>\n",
       "      <td>710</td>\n",
       "      <td>114242.0</td>\n",
       "      <td>2182-02-28</td>\n",
       "      <td>NaN</td>\n",
       "      <td>NaN</td>\n",
       "      <td>Discharge summary</td>\n",
       "      <td>Report</td>\n",
       "      <td>NaN</td>\n",
       "      <td>NaN</td>\n",
       "      <td>Admission Date: [**2182-2-18**]        Dischar...</td>\n",
       "      <td>2182</td>\n",
       "    </tr>\n",
       "    <tr>\n",
       "      <th>42</th>\n",
       "      <td>189</td>\n",
       "      <td>17483</td>\n",
       "      <td>189331.0</td>\n",
       "      <td>2147-07-01</td>\n",
       "      <td>NaN</td>\n",
       "      <td>NaN</td>\n",
       "      <td>Discharge summary</td>\n",
       "      <td>Report</td>\n",
       "      <td>NaN</td>\n",
       "      <td>NaN</td>\n",
       "      <td>Admission Date:  [**2147-6-24**]     Discharge...</td>\n",
       "      <td>2147</td>\n",
       "    </tr>\n",
       "  </tbody>\n",
       "</table>\n",
       "</div>"
      ],
      "text/plain": [
       "    ROW_ID  SUBJECT_ID   HADM_ID  CHARTDATE CHARTTIME STORETIME  \\\n",
       "0      174       22532  167853.0 2151-08-04       NaN       NaN   \n",
       "12     223        5350  169684.0 2143-04-30       NaN       NaN   \n",
       "13     224        5350  169684.0 2143-04-30       NaN       NaN   \n",
       "34     245         710  114242.0 2182-02-28       NaN       NaN   \n",
       "42     189       17483  189331.0 2147-07-01       NaN       NaN   \n",
       "\n",
       "             CATEGORY DESCRIPTION  CGID  ISERROR  \\\n",
       "0   Discharge summary      Report   NaN      NaN   \n",
       "12  Discharge summary      Report   NaN      NaN   \n",
       "13  Discharge summary      Report   NaN      NaN   \n",
       "34  Discharge summary      Report   NaN      NaN   \n",
       "42  Discharge summary      Report   NaN      NaN   \n",
       "\n",
       "                                                 TEXT  CREATE_YEAR  \n",
       "0   Admission Date:  [**2151-7-16**]       Dischar...         2151  \n",
       "12  Admission Date:  [**2143-4-25**]     Discharge...         2143  \n",
       "13  Admission Date:  [**2143-4-25**]     Discharge...         2143  \n",
       "34  Admission Date: [**2182-2-18**]        Dischar...         2182  \n",
       "42  Admission Date:  [**2147-6-24**]     Discharge...         2147  "
      ]
     },
     "execution_count": 64,
     "metadata": {},
     "output_type": "execute_result"
    }
   ],
   "source": [
    "# Preprocessing based on the length of documents\n",
    "min_ln = max(lns[0:rm_size])\n",
    "max_ln = min(lns[-rm_size:])\n",
    "\n",
    "noteevents = noteevents[[True if len(str(x)) > min_ln and len(str(x)) < max_ln else False for x in noteevents['TEXT']]]\n",
    "noteevents.head()"
   ]
  },
  {
   "cell_type": "code",
   "execution_count": 65,
   "metadata": {
    "colab": {
     "base_uri": "https://localhost:8080/",
     "height": 51
    },
    "colab_type": "code",
    "id": "MtRUapopadQv",
    "outputId": "5ea4cbd2-3e73-43c0-d134-0eef03912a41"
   },
   "outputs": [
    {
     "name": "stdout",
     "output_type": "stream",
     "text": [
      "After cleaning : 1033157\n",
      "The original: 1148653\n"
     ]
    }
   ],
   "source": [
    "print(f\"After cleaning : {len(noteevents)}\")\n",
    "print(f\"The original: {len(noteevents_original)}\")"
   ]
  },
  {
   "cell_type": "code",
   "execution_count": 80,
   "metadata": {
    "colab": {
     "base_uri": "https://localhost:8080/",
     "height": 550
    },
    "colab_type": "code",
    "id": "4_2isvlvadQx",
    "outputId": "de4681fc-a2a8-4000-f9e1-fc3f3d32ef8c"
   },
   "outputs": [
    {
     "data": {
      "image/png": "[encoded data removed]",
      "text/plain": [
       "<Figure size 1000x600 with 1 Axes>"
      ]
     },
     "metadata": {},
     "output_type": "display_data"
    }
   ],
   "source": [
    "# Number of Documents Per Patient\n",
    "sns.distplot(noteevents['SUBJECT_ID'].value_counts().values, kde=False, axlabel='Documents per patient', color = 'm')\n",
    "plt.show()"
   ]
  },
  {
   "cell_type": "code",
   "execution_count": 81,
   "metadata": {
    "colab": {
     "base_uri": "https://localhost:8080/",
     "height": 204
    },
    "colab_type": "code",
    "id": "TZp9h_e-adQz",
    "outputId": "87f4e571-5680-42b9-de8a-0d0e1c483795"
   },
   "outputs": [
    {
     "data": {
      "text/html": [
       "<div>\n",
       "<style scoped>\n",
       "    .dataframe tbody tr th:only-of-type {\n",
       "        vertical-align: middle;\n",
       "    }\n",
       "\n",
       "    .dataframe tbody tr th {\n",
       "        vertical-align: top;\n",
       "    }\n",
       "\n",
       "    .dataframe thead th {\n",
       "        text-align: right;\n",
       "    }\n",
       "</style>\n",
       "<table border=\"1\" class=\"dataframe\">\n",
       "  <thead>\n",
       "    <tr style=\"text-align: right;\">\n",
       "      <th></th>\n",
       "      <th>ROW_ID</th>\n",
       "      <th>SUBJECT_ID</th>\n",
       "      <th>HADM_ID</th>\n",
       "      <th>CHARTDATE</th>\n",
       "      <th>CHARTTIME</th>\n",
       "      <th>STORETIME</th>\n",
       "      <th>CATEGORY</th>\n",
       "      <th>DESCRIPTION</th>\n",
       "      <th>CGID</th>\n",
       "      <th>ISERROR</th>\n",
       "      <th>TEXT</th>\n",
       "      <th>CREATE_YEAR</th>\n",
       "    </tr>\n",
       "  </thead>\n",
       "  <tbody>\n",
       "    <tr>\n",
       "      <th>0</th>\n",
       "      <td>174</td>\n",
       "      <td>22532</td>\n",
       "      <td>167853.0</td>\n",
       "      <td>2151-08-04</td>\n",
       "      <td>NaN</td>\n",
       "      <td>NaN</td>\n",
       "      <td>Discharge summary</td>\n",
       "      <td>Report</td>\n",
       "      <td>NaN</td>\n",
       "      <td>NaN</td>\n",
       "      <td>Admission Date:  [**2151-7-16**]       Dischar...</td>\n",
       "      <td>2151</td>\n",
       "    </tr>\n",
       "    <tr>\n",
       "      <th>12</th>\n",
       "      <td>223</td>\n",
       "      <td>5350</td>\n",
       "      <td>169684.0</td>\n",
       "      <td>2143-04-30</td>\n",
       "      <td>NaN</td>\n",
       "      <td>NaN</td>\n",
       "      <td>Discharge summary</td>\n",
       "      <td>Report</td>\n",
       "      <td>NaN</td>\n",
       "      <td>NaN</td>\n",
       "      <td>Admission Date:  [**2143-4-25**]     Discharge...</td>\n",
       "      <td>2143</td>\n",
       "    </tr>\n",
       "    <tr>\n",
       "      <th>13</th>\n",
       "      <td>224</td>\n",
       "      <td>5350</td>\n",
       "      <td>169684.0</td>\n",
       "      <td>2143-04-30</td>\n",
       "      <td>NaN</td>\n",
       "      <td>NaN</td>\n",
       "      <td>Discharge summary</td>\n",
       "      <td>Report</td>\n",
       "      <td>NaN</td>\n",
       "      <td>NaN</td>\n",
       "      <td>Admission Date:  [**2143-4-25**]     Discharge...</td>\n",
       "      <td>2143</td>\n",
       "    </tr>\n",
       "    <tr>\n",
       "      <th>34</th>\n",
       "      <td>245</td>\n",
       "      <td>710</td>\n",
       "      <td>114242.0</td>\n",
       "      <td>2182-02-28</td>\n",
       "      <td>NaN</td>\n",
       "      <td>NaN</td>\n",
       "      <td>Discharge summary</td>\n",
       "      <td>Report</td>\n",
       "      <td>NaN</td>\n",
       "      <td>NaN</td>\n",
       "      <td>Admission Date: [**2182-2-18**]        Dischar...</td>\n",
       "      <td>2182</td>\n",
       "    </tr>\n",
       "    <tr>\n",
       "      <th>42</th>\n",
       "      <td>189</td>\n",
       "      <td>17483</td>\n",
       "      <td>189331.0</td>\n",
       "      <td>2147-07-01</td>\n",
       "      <td>NaN</td>\n",
       "      <td>NaN</td>\n",
       "      <td>Discharge summary</td>\n",
       "      <td>Report</td>\n",
       "      <td>NaN</td>\n",
       "      <td>NaN</td>\n",
       "      <td>Admission Date:  [**2147-6-24**]     Discharge...</td>\n",
       "      <td>2147</td>\n",
       "    </tr>\n",
       "  </tbody>\n",
       "</table>\n",
       "</div>"
      ],
      "text/plain": [
       "    ROW_ID  SUBJECT_ID   HADM_ID  CHARTDATE CHARTTIME STORETIME  \\\n",
       "0      174       22532  167853.0 2151-08-04       NaN       NaN   \n",
       "12     223        5350  169684.0 2143-04-30       NaN       NaN   \n",
       "13     224        5350  169684.0 2143-04-30       NaN       NaN   \n",
       "34     245         710  114242.0 2182-02-28       NaN       NaN   \n",
       "42     189       17483  189331.0 2147-07-01       NaN       NaN   \n",
       "\n",
       "             CATEGORY DESCRIPTION  CGID  ISERROR  \\\n",
       "0   Discharge summary      Report   NaN      NaN   \n",
       "12  Discharge summary      Report   NaN      NaN   \n",
       "13  Discharge summary      Report   NaN      NaN   \n",
       "34  Discharge summary      Report   NaN      NaN   \n",
       "42  Discharge summary      Report   NaN      NaN   \n",
       "\n",
       "                                                 TEXT  CREATE_YEAR  \n",
       "0   Admission Date:  [**2151-7-16**]       Dischar...         2151  \n",
       "12  Admission Date:  [**2143-4-25**]     Discharge...         2143  \n",
       "13  Admission Date:  [**2143-4-25**]     Discharge...         2143  \n",
       "34  Admission Date: [**2182-2-18**]        Dischar...         2182  \n",
       "42  Admission Date:  [**2147-6-24**]     Discharge...         2147  "
      ]
     },
     "execution_count": 81,
     "metadata": {},
     "output_type": "execute_result"
    }
   ],
   "source": [
    "# Cleaning the data.\n",
    "# Removing the outliers\n",
    "docs_per_pt = noteevents['SUBJECT_ID'].value_counts()\n",
    "docs_per_pt_vals = docs_per_pt.values\n",
    "docs_per_pt_vals.sort()\n",
    "\n",
    "rm_size = int(len(docs_per_pt_vals) / 100) * 1\n",
    "min_ln = max(docs_per_pt_vals[0:rm_size])\n",
    "max_ln = min(docs_per_pt_vals[-rm_size:])\n",
    "\n",
    "keep_subject_id = set([k for k, v in docs_per_pt.iteritems() if v > min_ln and v < max_ln])\n",
    "noteevents = noteevents[[True if subject_id in keep_subject_id else False \n",
    "                  for subject_id in noteevents['SUBJECT_ID'].values]]\n",
    "noteevents.head()"
   ]
  },
  {
   "cell_type": "code",
   "execution_count": 82,
   "metadata": {
    "colab": {
     "base_uri": "https://localhost:8080/",
     "height": 51
    },
    "colab_type": "code",
    "id": "O5ZA-Ay1adQ1",
    "outputId": "4e75c0a0-f33c-4eff-f24a-d5713863ef60"
   },
   "outputs": [
    {
     "name": "stdout",
     "output_type": "stream",
     "text": [
      "After cleaning : 764752\n",
      "The original: 1148653\n"
     ]
    }
   ],
   "source": [
    "print(f\"After cleaning : {len(noteevents)}\")\n",
    "print(f\"The original: {len(noteevents_original)}\")"
   ]
  },
  {
   "cell_type": "code",
   "execution_count": 87,
   "metadata": {
    "colab": {
     "base_uri": "https://localhost:8080/",
     "height": 550
    },
    "colab_type": "code",
    "id": "BZDQcG_OadQ4",
    "outputId": "aabcd0bd-252b-4867-ee79-e181d3142cc4"
   },
   "outputs": [
    {
     "data": {
      "image/png": "[encoded data removed]",
      "text/plain": [
       "<Figure size 1000x600 with 1 Axes>"
      ]
     },
     "metadata": {},
     "output_type": "display_data"
    }
   ],
   "source": [
    "sns.distplot(noteevents['SUBJECT_ID'].value_counts().values, kde=False, axlabel='Documents per patient', color = 'c')\n",
    "plt.show()"
   ]
  },
  {
   "cell_type": "markdown",
   "metadata": {
    "colab_type": "text",
    "id": "r7jGwJEmadQ6"
   },
   "source": [
    "### There are different sources for the documesnt, we'll plot that also"
   ]
  },
  {
   "cell_type": "code",
   "execution_count": 88,
   "metadata": {
    "colab": {
     "base_uri": "https://localhost:8080/",
     "height": 710
    },
    "colab_type": "code",
    "id": "aKZCkIG8adQ6",
    "outputId": "ed871d1a-0aef-435e-dbbd-a89773d4504a"
   },
   "outputs": [
    {
     "data": {
      "image/png": "[encoded data removed]",
      "text/plain": [
       "<Figure size 1000x600 with 1 Axes>"
      ]
     },
     "metadata": {},
     "output_type": "display_data"
    }
   ],
   "source": [
    "plot = sns.countplot(noteevents['CATEGORY'], palette=\"rocket\")\n",
    "_ = plot.set_xticklabels(plot.get_xticklabels(), rotation=45, horizontalalignment='right')\n",
    "plt.show()"
   ]
  },
  {
   "cell_type": "markdown",
   "metadata": {
    "colab_type": "text",
    "id": "L13jbTI0adQ8"
   },
   "source": [
    "## Analysis Based on the Age of Patients"
   ]
  },
  {
   "cell_type": "code",
   "execution_count": 96,
   "metadata": {
    "colab": {},
    "colab_type": "code",
    "id": "uJ2_DrKwadQ8"
   },
   "outputs": [],
   "source": [
    "noteevents['CHARTDATE'] = pd.to_datetime(noteevents['CHARTDATE'])\n",
    "patients['DOB'] = pd.to_datetime(patients['DOB'])\n",
    "# Add a year column to the dataset\n",
    "noteevents['CREATE_YEAR'] = pd.DatetimeIndex(noteevents['CHARTDATE']).year\n",
    "patients['DOB_YEAR'] = pd.DatetimeIndex(patients['DOB']).year"
   ]
  },
  {
   "cell_type": "code",
   "execution_count": 97,
   "metadata": {
    "colab": {},
    "colab_type": "code",
    "id": "FPEufVo5adQ-"
   },
   "outputs": [],
   "source": [
    "# Merge the datasets into one\n",
    "pt_notes = noteevents.merge(patients, on='SUBJECT_ID', how='left')"
   ]
  },
  {
   "cell_type": "code",
   "execution_count": 98,
   "metadata": {},
   "outputs": [
    {
     "data": {
      "text/html": [
       "<div>\n",
       "<style scoped>\n",
       "    .dataframe tbody tr th:only-of-type {\n",
       "        vertical-align: middle;\n",
       "    }\n",
       "\n",
       "    .dataframe tbody tr th {\n",
       "        vertical-align: top;\n",
       "    }\n",
       "\n",
       "    .dataframe thead th {\n",
       "        text-align: right;\n",
       "    }\n",
       "</style>\n",
       "<table border=\"1\" class=\"dataframe\">\n",
       "  <thead>\n",
       "    <tr style=\"text-align: right;\">\n",
       "      <th></th>\n",
       "      <th>ROW_ID_x</th>\n",
       "      <th>SUBJECT_ID</th>\n",
       "      <th>HADM_ID</th>\n",
       "      <th>CHARTDATE</th>\n",
       "      <th>CHARTTIME</th>\n",
       "      <th>STORETIME</th>\n",
       "      <th>CATEGORY</th>\n",
       "      <th>DESCRIPTION</th>\n",
       "      <th>CGID</th>\n",
       "      <th>ISERROR</th>\n",
       "      <th>TEXT</th>\n",
       "      <th>CREATE_YEAR</th>\n",
       "      <th>ROW_ID_y</th>\n",
       "      <th>GENDER</th>\n",
       "      <th>DOB</th>\n",
       "      <th>DOD</th>\n",
       "      <th>DOD_HOSP</th>\n",
       "      <th>DOD_SSN</th>\n",
       "      <th>EXPIRE_FLAG</th>\n",
       "      <th>DOB_YEAR</th>\n",
       "    </tr>\n",
       "  </thead>\n",
       "  <tbody>\n",
       "    <tr>\n",
       "      <th>0</th>\n",
       "      <td>174</td>\n",
       "      <td>22532</td>\n",
       "      <td>167853.0</td>\n",
       "      <td>2151-08-04</td>\n",
       "      <td>NaN</td>\n",
       "      <td>NaN</td>\n",
       "      <td>Discharge summary</td>\n",
       "      <td>Report</td>\n",
       "      <td>NaN</td>\n",
       "      <td>NaN</td>\n",
       "      <td>Admission Date:  [**2151-7-16**]       Dischar...</td>\n",
       "      <td>2151</td>\n",
       "      <td>21265</td>\n",
       "      <td>F</td>\n",
       "      <td>2064-08-20</td>\n",
       "      <td>NaN</td>\n",
       "      <td>NaN</td>\n",
       "      <td>NaN</td>\n",
       "      <td>0</td>\n",
       "      <td>2064</td>\n",
       "    </tr>\n",
       "    <tr>\n",
       "      <th>1</th>\n",
       "      <td>223</td>\n",
       "      <td>5350</td>\n",
       "      <td>169684.0</td>\n",
       "      <td>2143-04-30</td>\n",
       "      <td>NaN</td>\n",
       "      <td>NaN</td>\n",
       "      <td>Discharge summary</td>\n",
       "      <td>Report</td>\n",
       "      <td>NaN</td>\n",
       "      <td>NaN</td>\n",
       "      <td>Admission Date:  [**2143-4-25**]     Discharge...</td>\n",
       "      <td>2143</td>\n",
       "      <td>5069</td>\n",
       "      <td>M</td>\n",
       "      <td>2076-08-18</td>\n",
       "      <td>2151-05-03 00:00:00</td>\n",
       "      <td>NaN</td>\n",
       "      <td>2151-05-03 00:00:00</td>\n",
       "      <td>1</td>\n",
       "      <td>2076</td>\n",
       "    </tr>\n",
       "    <tr>\n",
       "      <th>2</th>\n",
       "      <td>224</td>\n",
       "      <td>5350</td>\n",
       "      <td>169684.0</td>\n",
       "      <td>2143-04-30</td>\n",
       "      <td>NaN</td>\n",
       "      <td>NaN</td>\n",
       "      <td>Discharge summary</td>\n",
       "      <td>Report</td>\n",
       "      <td>NaN</td>\n",
       "      <td>NaN</td>\n",
       "      <td>Admission Date:  [**2143-4-25**]     Discharge...</td>\n",
       "      <td>2143</td>\n",
       "      <td>5069</td>\n",
       "      <td>M</td>\n",
       "      <td>2076-08-18</td>\n",
       "      <td>2151-05-03 00:00:00</td>\n",
       "      <td>NaN</td>\n",
       "      <td>2151-05-03 00:00:00</td>\n",
       "      <td>1</td>\n",
       "      <td>2076</td>\n",
       "    </tr>\n",
       "    <tr>\n",
       "      <th>3</th>\n",
       "      <td>245</td>\n",
       "      <td>710</td>\n",
       "      <td>114242.0</td>\n",
       "      <td>2182-02-28</td>\n",
       "      <td>NaN</td>\n",
       "      <td>NaN</td>\n",
       "      <td>Discharge summary</td>\n",
       "      <td>Report</td>\n",
       "      <td>NaN</td>\n",
       "      <td>NaN</td>\n",
       "      <td>Admission Date: [**2182-2-18**]        Dischar...</td>\n",
       "      <td>2182</td>\n",
       "      <td>668</td>\n",
       "      <td>F</td>\n",
       "      <td>2109-08-28</td>\n",
       "      <td>2182-02-28 00:00:00</td>\n",
       "      <td>2182-02-28 00:00:00</td>\n",
       "      <td>2182-02-28 00:00:00</td>\n",
       "      <td>1</td>\n",
       "      <td>2109</td>\n",
       "    </tr>\n",
       "    <tr>\n",
       "      <th>4</th>\n",
       "      <td>189</td>\n",
       "      <td>17483</td>\n",
       "      <td>189331.0</td>\n",
       "      <td>2147-07-01</td>\n",
       "      <td>NaN</td>\n",
       "      <td>NaN</td>\n",
       "      <td>Discharge summary</td>\n",
       "      <td>Report</td>\n",
       "      <td>NaN</td>\n",
       "      <td>NaN</td>\n",
       "      <td>Admission Date:  [**2147-6-24**]     Discharge...</td>\n",
       "      <td>2147</td>\n",
       "      <td>16534</td>\n",
       "      <td>F</td>\n",
       "      <td>2063-05-04</td>\n",
       "      <td>2147-07-01 00:00:00</td>\n",
       "      <td>2147-07-01 00:00:00</td>\n",
       "      <td>NaN</td>\n",
       "      <td>1</td>\n",
       "      <td>2063</td>\n",
       "    </tr>\n",
       "  </tbody>\n",
       "</table>\n",
       "</div>"
      ],
      "text/plain": [
       "   ROW_ID_x  SUBJECT_ID   HADM_ID  CHARTDATE CHARTTIME STORETIME  \\\n",
       "0       174       22532  167853.0 2151-08-04       NaN       NaN   \n",
       "1       223        5350  169684.0 2143-04-30       NaN       NaN   \n",
       "2       224        5350  169684.0 2143-04-30       NaN       NaN   \n",
       "3       245         710  114242.0 2182-02-28       NaN       NaN   \n",
       "4       189       17483  189331.0 2147-07-01       NaN       NaN   \n",
       "\n",
       "            CATEGORY DESCRIPTION  CGID  ISERROR  \\\n",
       "0  Discharge summary      Report   NaN      NaN   \n",
       "1  Discharge summary      Report   NaN      NaN   \n",
       "2  Discharge summary      Report   NaN      NaN   \n",
       "3  Discharge summary      Report   NaN      NaN   \n",
       "4  Discharge summary      Report   NaN      NaN   \n",
       "\n",
       "                                                TEXT  CREATE_YEAR  ROW_ID_y  \\\n",
       "0  Admission Date:  [**2151-7-16**]       Dischar...         2151     21265   \n",
       "1  Admission Date:  [**2143-4-25**]     Discharge...         2143      5069   \n",
       "2  Admission Date:  [**2143-4-25**]     Discharge...         2143      5069   \n",
       "3  Admission Date: [**2182-2-18**]        Dischar...         2182       668   \n",
       "4  Admission Date:  [**2147-6-24**]     Discharge...         2147     16534   \n",
       "\n",
       "  GENDER        DOB                  DOD             DOD_HOSP  \\\n",
       "0      F 2064-08-20                  NaN                  NaN   \n",
       "1      M 2076-08-18  2151-05-03 00:00:00                  NaN   \n",
       "2      M 2076-08-18  2151-05-03 00:00:00                  NaN   \n",
       "3      F 2109-08-28  2182-02-28 00:00:00  2182-02-28 00:00:00   \n",
       "4      F 2063-05-04  2147-07-01 00:00:00  2147-07-01 00:00:00   \n",
       "\n",
       "               DOD_SSN  EXPIRE_FLAG  DOB_YEAR  \n",
       "0                  NaN            0      2064  \n",
       "1  2151-05-03 00:00:00            1      2076  \n",
       "2  2151-05-03 00:00:00            1      2076  \n",
       "3  2182-02-28 00:00:00            1      2109  \n",
       "4                  NaN            1      2063  "
      ]
     },
     "execution_count": 98,
     "metadata": {},
     "output_type": "execute_result"
    }
   ],
   "source": [
    "pt_notes.head()"
   ]
  },
  {
   "cell_type": "code",
   "execution_count": 99,
   "metadata": {
    "colab": {},
    "colab_type": "code",
    "id": "n_nY8bt8adRA"
   },
   "outputs": [],
   "source": [
    "pt_notes['AGE_YEAR'] = pt_notes['CREATE_YEAR'] - pt_notes['DOB_YEAR']"
   ]
  },
  {
   "cell_type": "code",
   "execution_count": 100,
   "metadata": {
    "colab": {},
    "colab_type": "code",
    "id": "GI6asE74adRB"
   },
   "outputs": [],
   "source": [
    "# Remove patients older than 89 and younger than 16\n",
    "pt_notes = pt_notes[pt_notes['AGE_YEAR'] >= 16]\n",
    "pt_notes = pt_notes[pt_notes['AGE_YEAR'] <= 89]"
   ]
  },
  {
   "cell_type": "code",
   "execution_count": 101,
   "metadata": {
    "colab": {
     "base_uri": "https://localhost:8080/",
     "height": 51
    },
    "colab_type": "code",
    "id": "cV0omycladRD",
    "outputId": "ddf2c4b7-36d8-4f4d-a140-e8eeb07f15c8"
   },
   "outputs": [
    {
     "name": "stdout",
     "output_type": "stream",
     "text": [
      "Number of patients with only one document: 2\n",
      "After removal: 0\n"
     ]
    }
   ],
   "source": [
    "print(\"Number of patients with only one document: \" + str(sum(pt_notes['SUBJECT_ID'].value_counts().values == 1)))\n",
    "# Remove it there are any\n",
    "remove_subject = set([k for k, v in pt_notes['SUBJECT_ID'].value_counts().iteritems() if v == 1])\n",
    "pt_notes = pt_notes[~pt_notes.SUBJECT_ID.isin(remove_subject)]\n",
    "print(\"After removal: \" + str(sum(pt_notes['SUBJECT_ID'].value_counts().values == 1)))"
   ]
  },
  {
   "cell_type": "code",
   "execution_count": 102,
   "metadata": {
    "colab": {
     "base_uri": "https://localhost:8080/",
     "height": 204
    },
    "colab_type": "code",
    "id": "321itVORadRF",
    "outputId": "8941d58d-513c-4301-efe8-32cb8c654f0c"
   },
   "outputs": [
    {
     "data": {
      "text/html": [
       "<div>\n",
       "<style scoped>\n",
       "    .dataframe tbody tr th:only-of-type {\n",
       "        vertical-align: middle;\n",
       "    }\n",
       "\n",
       "    .dataframe tbody tr th {\n",
       "        vertical-align: top;\n",
       "    }\n",
       "\n",
       "    .dataframe thead th {\n",
       "        text-align: right;\n",
       "    }\n",
       "</style>\n",
       "<table border=\"1\" class=\"dataframe\">\n",
       "  <thead>\n",
       "    <tr style=\"text-align: right;\">\n",
       "      <th></th>\n",
       "      <th>ROW_ID_x</th>\n",
       "      <th>SUBJECT_ID</th>\n",
       "      <th>HADM_ID</th>\n",
       "      <th>CHARTDATE</th>\n",
       "      <th>CHARTTIME</th>\n",
       "      <th>STORETIME</th>\n",
       "      <th>CATEGORY</th>\n",
       "      <th>DESCRIPTION</th>\n",
       "      <th>CGID</th>\n",
       "      <th>ISERROR</th>\n",
       "      <th>...</th>\n",
       "      <th>CREATE_YEAR</th>\n",
       "      <th>ROW_ID_y</th>\n",
       "      <th>GENDER</th>\n",
       "      <th>DOB</th>\n",
       "      <th>DOD</th>\n",
       "      <th>DOD_HOSP</th>\n",
       "      <th>DOD_SSN</th>\n",
       "      <th>EXPIRE_FLAG</th>\n",
       "      <th>DOB_YEAR</th>\n",
       "      <th>AGE_YEAR</th>\n",
       "    </tr>\n",
       "  </thead>\n",
       "  <tbody>\n",
       "    <tr>\n",
       "      <th>0</th>\n",
       "      <td>174</td>\n",
       "      <td>22532</td>\n",
       "      <td>167853.0</td>\n",
       "      <td>2151-08-04</td>\n",
       "      <td>NaN</td>\n",
       "      <td>NaN</td>\n",
       "      <td>Discharge summary</td>\n",
       "      <td>Report</td>\n",
       "      <td>NaN</td>\n",
       "      <td>NaN</td>\n",
       "      <td>...</td>\n",
       "      <td>2151</td>\n",
       "      <td>21265</td>\n",
       "      <td>F</td>\n",
       "      <td>2064-08-20</td>\n",
       "      <td>NaN</td>\n",
       "      <td>NaN</td>\n",
       "      <td>NaN</td>\n",
       "      <td>0</td>\n",
       "      <td>2064</td>\n",
       "      <td>87</td>\n",
       "    </tr>\n",
       "    <tr>\n",
       "      <th>1</th>\n",
       "      <td>223</td>\n",
       "      <td>5350</td>\n",
       "      <td>169684.0</td>\n",
       "      <td>2143-04-30</td>\n",
       "      <td>NaN</td>\n",
       "      <td>NaN</td>\n",
       "      <td>Discharge summary</td>\n",
       "      <td>Report</td>\n",
       "      <td>NaN</td>\n",
       "      <td>NaN</td>\n",
       "      <td>...</td>\n",
       "      <td>2143</td>\n",
       "      <td>5069</td>\n",
       "      <td>M</td>\n",
       "      <td>2076-08-18</td>\n",
       "      <td>2151-05-03 00:00:00</td>\n",
       "      <td>NaN</td>\n",
       "      <td>2151-05-03 00:00:00</td>\n",
       "      <td>1</td>\n",
       "      <td>2076</td>\n",
       "      <td>67</td>\n",
       "    </tr>\n",
       "    <tr>\n",
       "      <th>2</th>\n",
       "      <td>224</td>\n",
       "      <td>5350</td>\n",
       "      <td>169684.0</td>\n",
       "      <td>2143-04-30</td>\n",
       "      <td>NaN</td>\n",
       "      <td>NaN</td>\n",
       "      <td>Discharge summary</td>\n",
       "      <td>Report</td>\n",
       "      <td>NaN</td>\n",
       "      <td>NaN</td>\n",
       "      <td>...</td>\n",
       "      <td>2143</td>\n",
       "      <td>5069</td>\n",
       "      <td>M</td>\n",
       "      <td>2076-08-18</td>\n",
       "      <td>2151-05-03 00:00:00</td>\n",
       "      <td>NaN</td>\n",
       "      <td>2151-05-03 00:00:00</td>\n",
       "      <td>1</td>\n",
       "      <td>2076</td>\n",
       "      <td>67</td>\n",
       "    </tr>\n",
       "    <tr>\n",
       "      <th>3</th>\n",
       "      <td>245</td>\n",
       "      <td>710</td>\n",
       "      <td>114242.0</td>\n",
       "      <td>2182-02-28</td>\n",
       "      <td>NaN</td>\n",
       "      <td>NaN</td>\n",
       "      <td>Discharge summary</td>\n",
       "      <td>Report</td>\n",
       "      <td>NaN</td>\n",
       "      <td>NaN</td>\n",
       "      <td>...</td>\n",
       "      <td>2182</td>\n",
       "      <td>668</td>\n",
       "      <td>F</td>\n",
       "      <td>2109-08-28</td>\n",
       "      <td>2182-02-28 00:00:00</td>\n",
       "      <td>2182-02-28 00:00:00</td>\n",
       "      <td>2182-02-28 00:00:00</td>\n",
       "      <td>1</td>\n",
       "      <td>2109</td>\n",
       "      <td>73</td>\n",
       "    </tr>\n",
       "    <tr>\n",
       "      <th>4</th>\n",
       "      <td>189</td>\n",
       "      <td>17483</td>\n",
       "      <td>189331.0</td>\n",
       "      <td>2147-07-01</td>\n",
       "      <td>NaN</td>\n",
       "      <td>NaN</td>\n",
       "      <td>Discharge summary</td>\n",
       "      <td>Report</td>\n",
       "      <td>NaN</td>\n",
       "      <td>NaN</td>\n",
       "      <td>...</td>\n",
       "      <td>2147</td>\n",
       "      <td>16534</td>\n",
       "      <td>F</td>\n",
       "      <td>2063-05-04</td>\n",
       "      <td>2147-07-01 00:00:00</td>\n",
       "      <td>2147-07-01 00:00:00</td>\n",
       "      <td>NaN</td>\n",
       "      <td>1</td>\n",
       "      <td>2063</td>\n",
       "      <td>84</td>\n",
       "    </tr>\n",
       "  </tbody>\n",
       "</table>\n",
       "<p>5 rows × 21 columns</p>\n",
       "</div>"
      ],
      "text/plain": [
       "   ROW_ID_x  SUBJECT_ID   HADM_ID  CHARTDATE CHARTTIME STORETIME  \\\n",
       "0       174       22532  167853.0 2151-08-04       NaN       NaN   \n",
       "1       223        5350  169684.0 2143-04-30       NaN       NaN   \n",
       "2       224        5350  169684.0 2143-04-30       NaN       NaN   \n",
       "3       245         710  114242.0 2182-02-28       NaN       NaN   \n",
       "4       189       17483  189331.0 2147-07-01       NaN       NaN   \n",
       "\n",
       "            CATEGORY DESCRIPTION  CGID  ISERROR  ... CREATE_YEAR  ROW_ID_y  \\\n",
       "0  Discharge summary      Report   NaN      NaN  ...        2151     21265   \n",
       "1  Discharge summary      Report   NaN      NaN  ...        2143      5069   \n",
       "2  Discharge summary      Report   NaN      NaN  ...        2143      5069   \n",
       "3  Discharge summary      Report   NaN      NaN  ...        2182       668   \n",
       "4  Discharge summary      Report   NaN      NaN  ...        2147     16534   \n",
       "\n",
       "   GENDER        DOB                  DOD             DOD_HOSP  \\\n",
       "0       F 2064-08-20                  NaN                  NaN   \n",
       "1       M 2076-08-18  2151-05-03 00:00:00                  NaN   \n",
       "2       M 2076-08-18  2151-05-03 00:00:00                  NaN   \n",
       "3       F 2109-08-28  2182-02-28 00:00:00  2182-02-28 00:00:00   \n",
       "4       F 2063-05-04  2147-07-01 00:00:00  2147-07-01 00:00:00   \n",
       "\n",
       "               DOD_SSN EXPIRE_FLAG  DOB_YEAR  AGE_YEAR  \n",
       "0                  NaN           0      2064        87  \n",
       "1  2151-05-03 00:00:00           1      2076        67  \n",
       "2  2151-05-03 00:00:00           1      2076        67  \n",
       "3  2182-02-28 00:00:00           1      2109        73  \n",
       "4                  NaN           1      2063        84  \n",
       "\n",
       "[5 rows x 21 columns]"
      ]
     },
     "execution_count": 102,
     "metadata": {},
     "output_type": "execute_result"
    }
   ],
   "source": [
    "pt_notes.head()"
   ]
  },
  {
   "cell_type": "code",
   "execution_count": 103,
   "metadata": {
    "colab": {},
    "colab_type": "code",
    "id": "3Yol0bDUadRH"
   },
   "outputs": [],
   "source": [
    "dif_pt = {}\n",
    "for ind, row in pt_notes.iterrows():\n",
    "    sid = row['SUBJECT_ID']\n",
    "    if sid in dif_pt:\n",
    "        dif_pt[sid].append(row['AGE_YEAR'])\n",
    "    else:\n",
    "        dif_pt[sid] = [row['AGE_YEAR']]\n",
    "\n",
    "ehr_length = []\n",
    "median_age = []\n",
    "for v in dif_pt.values():\n",
    "    mx = max(v)\n",
    "    mi = min(v)\n",
    "    median_age.append(np.median(v))\n",
    "    ehr_length.append(mx - mi)"
   ]
  },
  {
   "cell_type": "code",
   "execution_count": 123,
   "metadata": {
    "colab": {
     "base_uri": "https://localhost:8080/",
     "height": 550
    },
    "colab_type": "code",
    "id": "wPEDOt48adRI",
    "outputId": "bb06dd74-4fee-454b-fa55-d7ec9f4a5be6"
   },
   "outputs": [
    {
     "data": {
      "image/png": "[encoded data removed]",
      "text/plain": [
       "<Figure size 1000x600 with 1 Axes>"
      ]
     },
     "metadata": {},
     "output_type": "display_data"
    }
   ],
   "source": [
    "# We show this mainly to be sure that most patients have an EHR that spans less than 1 year \n",
    "sns.distplot(ehr_length, kde=False, axlabel='EHR Length in Years', color = 'g')\n",
    "plt.show()"
   ]
  },
  {
   "cell_type": "code",
   "execution_count": 113,
   "metadata": {
    "colab": {
     "base_uri": "https://localhost:8080/",
     "height": 550
    },
    "colab_type": "code",
    "id": "n5QytU90adRK",
    "outputId": "74121331-63bf-4458-8d0a-345089c0c9a7"
   },
   "outputs": [
    {
     "data": {
      "image/png": "[encoded data removed]",
      "text/plain": [
       "<Figure size 1000x600 with 1 Axes>"
      ]
     },
     "metadata": {},
     "output_type": "display_data"
    }
   ],
   "source": [
    "sns.distplot([np.round(x) for x in median_age], kde=False, bins=74, axlabel='Patient Age', color = 'm')\n",
    "plt.show()"
   ]
  },
  {
   "cell_type": "code",
   "execution_count": 114,
   "metadata": {
    "colab": {
     "base_uri": "https://localhost:8080/",
     "height": 51
    },
    "colab_type": "code",
    "id": "sak8VW3UadRL",
    "outputId": "62f45242-a3d7-42dd-b323-58cda9a22309"
   },
   "outputs": [
    {
     "name": "stdout",
     "output_type": "stream",
     "text": [
      "31484\n",
      "42681\n"
     ]
    }
   ],
   "source": [
    "# Number of patients after/before cleaning\n",
    "print(len(pt_notes['SUBJECT_ID'].unique()))\n",
    "print(len(noteevents_original['SUBJECT_ID'].unique()))"
   ]
  },
  {
   "cell_type": "code",
   "execution_count": 115,
   "metadata": {
    "colab": {
     "base_uri": "https://localhost:8080/",
     "height": 51
    },
    "colab_type": "code",
    "id": "EnDpGSi2adRN",
    "outputId": "77cbf299-a5c9-46ed-f7b5-0546a3515842",
    "scrolled": true
   },
   "outputs": [
    {
     "name": "stdout",
     "output_type": "stream",
     "text": [
      "1414.5351104185797\n",
      "1492.0938133622599\n"
     ]
    }
   ],
   "source": [
    "# Document length after/before cleaning\n",
    "print(np.average([len(str(x)) for x in pt_notes['TEXT']]))\n",
    "print(np.average([len(str(x)) for x in noteevents_original['TEXT']]))"
   ]
  },
  {
   "cell_type": "code",
   "execution_count": 116,
   "metadata": {
    "colab": {
     "base_uri": "https://localhost:8080/",
     "height": 51
    },
    "colab_type": "code",
    "id": "MEs12MNpadRR",
    "outputId": "e15b36d0-533f-43ac-a72c-211a48994451"
   },
   "outputs": [
    {
     "name": "stdout",
     "output_type": "stream",
     "text": [
      "646902\n",
      "1148653\n"
     ]
    }
   ],
   "source": [
    "# Number of documents after/before cleaning\n",
    "print(len(pt_notes))\n",
    "print(len(noteevents_original))"
   ]
  },
  {
   "cell_type": "code",
   "execution_count": 117,
   "metadata": {
    "colab": {
     "base_uri": "https://localhost:8080/",
     "height": 51
    },
    "colab_type": "code",
    "id": "1bZNZEEgadRT",
    "outputId": "e0fd6fbf-fc7f-4014-e6bf-7b74be8964d2"
   },
   "outputs": [
    {
     "name": "stdout",
     "output_type": "stream",
     "text": [
      "2\n",
      "2\n"
     ]
    }
   ],
   "source": [
    "# Min number of documents per patient after/before cleaning\n",
    "print(min(pt_notes['SUBJECT_ID'].value_counts().values))\n",
    "print(min(noteevents_original['SUBJECT_ID'].value_counts().values))"
   ]
  },
  {
   "cell_type": "code",
   "execution_count": 118,
   "metadata": {
    "colab": {
     "base_uri": "https://localhost:8080/",
     "height": 51
    },
    "colab_type": "code",
    "id": "jVksBr5oadRU",
    "outputId": "79e1f6f7-420f-492d-f511-ffbc3b0aba7b"
   },
   "outputs": [
    {
     "name": "stdout",
     "output_type": "stream",
     "text": [
      "71\n",
      "130\n"
     ]
    }
   ],
   "source": [
    "# Max number of documents per patient after/before cleaning\n",
    "print(max(pt_notes['SUBJECT_ID'].value_counts().values))\n",
    "print(max(noteevents_original['SUBJECT_ID'].value_counts().values))"
   ]
  },
  {
   "cell_type": "code",
   "execution_count": null,
   "metadata": {},
   "outputs": [],
   "source": []
  }
 ],
 "metadata": {
  "accelerator": "GPU",
  "colab": {
   "collapsed_sections": [],
   "name": "MedCAT Tutorial | Part 2 - Dataset Analysis and Preparation.ipynb",
   "provenance": []
  },
  "kernelspec": {
   "display_name": "Python 3",
   "language": "python",
   "name": "python3"
  },
  "language_info": {
   "codemirror_mode": {
    "name": "ipython",
    "version": 3
   },
   "file_extension": ".py",
   "mimetype": "text/x-python",
   "name": "python",
   "nbconvert_exporter": "python",
   "pygments_lexer": "ipython3",
   "version": "3.7.3"
  }
 },
 "nbformat": 4,
 "nbformat_minor": 1
}
